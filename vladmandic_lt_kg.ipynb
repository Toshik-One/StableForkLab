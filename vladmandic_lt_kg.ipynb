{
  "nbformat": 4,
  "nbformat_minor": 0,
  "metadata": {
    "colab": {
      "provenance": [],
      "gpuType": "T4"
    },
    "kernelspec": {
      "name": "python3",
      "display_name": "Python 3"
    },
    "language_info": {
      "name": "python"
    },
    "accelerator": "GPU",
    "gpuClass": "standard"
  },
  "cells": [
    {
      "cell_type": "code",
      "source": [
        "#@title Загружаем модели\n",
        "#@markdown По умолчанию загружаем всё во временную среду виртуальной машины</br></br>\n",
        "#@markdown ============== ИЛИ ============== </br></br>\n",
        "#@markdown Будем загружать на гугл диск?\n",
        "load_to_gdrive = False #@param {type:\"boolean\"}\n",
        "#@markdown ============== ИЛИ ============== </br></br>\n",
        "#@markdown Укажите вручную путь до папки models:\n",
        "models_dir = \"\" #@param {type:\"string\"}\n",
        "#@markdown </br></br>\n",
        "#@markdown Какие модели будем загружать?\n",
        "Deliberate_v2 = True #@param {type:\"boolean\"}\n",
        "vae_ft_mse_840000_ema_pruned = True #@param {type:\"boolean\"}\n",
        "\n",
        "#@markdown ============== ИЛИ ============== </br></br>\n",
        "#@markdown Укажите прямую URL ссылку на модель для загрузки:\n",
        "dl_model_URL = \"\" #@param {type:\"string\"}\n",
        "#@markdown Укажите имя файла модели, которое будет сохранено:\n",
        "name_model_out = \"\" #@param {type:\"string\"}\n",
        "#@markdown Укажите куда, в какую папку будем грузить:\n",
        "target_to_load = \"\" #@param {type:\"string\"}\n",
        "\n",
        "\n",
        "import os\n",
        "\n",
        "if models_dir==\"\":\n",
        "    if load_to_gdrive:\n",
        "        models_dir = '/content/drive/MyDrive/sd/models'\n",
        "    else:\n",
        "        models_dir = '/content/models'\n",
        "\n",
        "if not os.path.exists(f'{models_dir}'):\n",
        "    !mkdir -p $models_dir\n",
        "if not os.path.exists(f'{models_dir}/Stable-diffusion'):\n",
        "    !mkdir -p $models_dir/Stable-diffusion\n",
        "if Deliberate_v2:\n",
        "    if not os.path.exists(f'{models_dir}/Stable-diffusion/Deliberate_v2.safetensors'):\n",
        "        !wget -O $models_dir/Stable-diffusion/Deliberate_v2.safetensors 'https://civitai.com/api/download/models/15236?type=Model&format=SafeTensor&size=full&fp=fp16'\n",
        "if vae_ft_mse_840000_ema_pruned:\n",
        "    if not os.path.exists(f'{models_dir}/VAE'):\n",
        "        !mkdir -p $models_dir/VAE\n",
        "    if not os.path.exists(f'{models_dir}/VAE/vae-ft-mse-840000-ema-pruned.safetensors'):\n",
        "        !wget -O $models_dir/VAE/vae-ft-mse-840000-ema-pruned.safetensors 'https://huggingface.co/stabilityai/sd-vae-ft-mse-original/resolve/main/vae-ft-mse-840000-ema-pruned.safetensors'\n",
        "if dl_model_URL!=\"\" and target_to_load!=\"\" and name_model_out!=\"\":\n",
        "    if not os.path.exists(f'{target_to_load}'):\n",
        "        !mkdir -p $target_to_load\n",
        "    !wget -O $target_to_load/$name_model_out $dl_model_URL\n",
        "\n",
        "\n"
      ],
      "metadata": {
        "cellView": "form",
        "id": "8q3tO9NMVfPy"
      },
      "execution_count": null,
      "outputs": []
    },
    {
      "cell_type": "code",
      "execution_count": null,
      "metadata": {
        "cellView": "form",
        "id": "lpu99CnrU9hS"
      },
      "outputs": [],
      "source": [
        "#@title Устанавливаем vladmandic и зависимости\n",
        "%cd /content/\n",
        "!git clone https://github.com/vladmandic/automatic\n",
        "%cd /content/automatic\n",
        "!python installer.py"
      ]
    },
    {
      "cell_type": "code",
      "source": [
        "#@title Запускаем vladmandic с моделью по-умолчанию Deliberate_v2\n",
        "%cd /content/automatic\n",
        "!python launch.py --models-dir $models_dir --insecure --share --ckpt $models_dir/Stable-diffusion/Deliberate_v2.safetensors"
      ],
      "metadata": {
        "cellView": "form",
        "id": "WWAcndSEVdlK"
      },
      "execution_count": null,
      "outputs": []
    }
  ]
}